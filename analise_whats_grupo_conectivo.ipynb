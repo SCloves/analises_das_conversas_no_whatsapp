{
 "cells": [
  {
   "cell_type": "code",
   "execution_count": 3,
   "metadata": {
    "collapsed": true
   },
   "outputs": [],
   "source": [
    "import pandas as pd"
   ]
  },
  {
   "cell_type": "code",
   "execution_count": 31,
   "metadata": {
    "collapsed": true
   },
   "outputs": [],
   "source": [
    "def pega_data(linha):\n",
    "    return linha[:15]"
   ]
  },
  {
   "cell_type": "code",
   "execution_count": 48,
   "metadata": {
    "collapsed": false
   },
   "outputs": [],
   "source": [
    "def pega_nome(linha):\n",
    "    nome = ''\n",
    "    for i in linha[18:]:\n",
    "        if i == ':':\n",
    "            return nome\n",
    "        nome += i"
   ]
  },
  {
   "cell_type": "code",
   "execution_count": 64,
   "metadata": {
    "collapsed": true
   },
   "outputs": [],
   "source": [
    "def pega_texto(linha):\n",
    "    linha2 = linha[18:]\n",
    "    if ':' in linha2:\n",
    "        return linha2[linha2.index(':') + 1:]\n",
    "    else:\n",
    "        return None"
   ]
  },
  {
   "cell_type": "code",
   "execution_count": 67,
   "metadata": {
    "collapsed": false
   },
   "outputs": [],
   "source": [
    "def cria_dic(linha):\n",
    "    dic = {}\n",
    "    dic['data'] = pega_data(linha)\n",
    "    dic['nome'] = pega_nome(linha)\n",
    "    dic['texto']= pega_texto(linha)\n",
    "    \n",
    "    return dic\n",
    "    "
   ]
  },
  {
   "cell_type": "code",
   "execution_count": 72,
   "metadata": {
    "collapsed": true
   },
   "outputs": [],
   "source": [
    "arquivo = open('Conversa do WhatsApp com Conectivo.txt', 'r')"
   ]
  },
  {
   "cell_type": "code",
   "execution_count": 76,
   "metadata": {
    "collapsed": true
   },
   "outputs": [],
   "source": [
    "def cria_lista_dics(arquivo):\n",
    "    lista = []\n",
    "    for linha in arquivo.readlines():\n",
    "        lista.append(cria_dic(linha))\n",
    "        \n",
    "    return lista"
   ]
  },
  {
   "cell_type": "code",
   "execution_count": 77,
   "metadata": {
    "collapsed": false
   },
   "outputs": [],
   "source": [
    "lista_dics = cria_lista_dics(arquivo)"
   ]
  },
  {
   "cell_type": "code",
   "execution_count": 79,
   "metadata": {
    "collapsed": false
   },
   "outputs": [],
   "source": [
    "df = pd.DataFrame(lista_dics)"
   ]
  },
  {
   "cell_type": "code",
   "execution_count": 81,
   "metadata": {
    "collapsed": false
   },
   "outputs": [
    {
     "data": {
      "text/html": [
       "<div>\n",
       "<table border=\"1\" class=\"dataframe\">\n",
       "  <thead>\n",
       "    <tr style=\"text-align: right;\">\n",
       "      <th></th>\n",
       "      <th>data</th>\n",
       "      <th>nome</th>\n",
       "      <th>texto</th>\n",
       "    </tr>\n",
       "  </thead>\n",
       "  <tbody>\n",
       "    <tr>\n",
       "      <th>0</th>\n",
       "      <td>06/07/17, 16:38</td>\n",
       "      <td>None</td>\n",
       "      <td>None</td>\n",
       "    </tr>\n",
       "    <tr>\n",
       "      <th>1</th>\n",
       "      <td>06/07/17, 16:38</td>\n",
       "      <td>None</td>\n",
       "      <td>None</td>\n",
       "    </tr>\n",
       "    <tr>\n",
       "      <th>2</th>\n",
       "      <td>06/07/17, 16:38</td>\n",
       "      <td>None</td>\n",
       "      <td>None</td>\n",
       "    </tr>\n",
       "    <tr>\n",
       "      <th>3</th>\n",
       "      <td>06/07/17, 16:38</td>\n",
       "      <td>Robson</td>\n",
       "      <td>kkk\\n</td>\n",
       "    </tr>\n",
       "    <tr>\n",
       "      <th>4</th>\n",
       "      <td>06/07/17, 16:38</td>\n",
       "      <td>Robson</td>\n",
       "      <td>xablau..\\n</td>\n",
       "    </tr>\n",
       "    <tr>\n",
       "      <th>5</th>\n",
       "      <td>06/07/17, 16:40</td>\n",
       "      <td>None</td>\n",
       "      <td>None</td>\n",
       "    </tr>\n",
       "    <tr>\n",
       "      <th>6</th>\n",
       "      <td>06/07/17, 16:40</td>\n",
       "      <td>Camile</td>\n",
       "      <td>&lt;Mídia omitida&gt;\\n</td>\n",
       "    </tr>\n",
       "    <tr>\n",
       "      <th>7</th>\n",
       "      <td>06/07/17, 16:40</td>\n",
       "      <td>Vinicius Cognitivo. ai</td>\n",
       "      <td>camile\\n</td>\n",
       "    </tr>\n",
       "    <tr>\n",
       "      <th>8</th>\n",
       "      <td>06/07/17, 16:41</td>\n",
       "      <td>Vinicius Cognitivo. ai</td>\n",
       "      <td>o seu audio n fala nada\\n</td>\n",
       "    </tr>\n",
       "    <tr>\n",
       "      <th>9</th>\n",
       "      <td>06/07/17, 16:41</td>\n",
       "      <td>Vinicius Cognitivo. ai</td>\n",
       "      <td>só sai ruido\\n</td>\n",
       "    </tr>\n",
       "  </tbody>\n",
       "</table>\n",
       "</div>"
      ],
      "text/plain": [
       "              data                    nome                       texto\n",
       "0  06/07/17, 16:38                    None                        None\n",
       "1  06/07/17, 16:38                    None                        None\n",
       "2  06/07/17, 16:38                    None                        None\n",
       "3  06/07/17, 16:38                  Robson                       kkk\\n\n",
       "4  06/07/17, 16:38                  Robson                  xablau..\\n\n",
       "5  06/07/17, 16:40                    None                        None\n",
       "6  06/07/17, 16:40                  Camile           <Mídia omitida>\\n\n",
       "7  06/07/17, 16:40  Vinicius Cognitivo. ai                    camile\\n\n",
       "8  06/07/17, 16:41  Vinicius Cognitivo. ai   o seu audio n fala nada\\n\n",
       "9  06/07/17, 16:41  Vinicius Cognitivo. ai              só sai ruido\\n"
      ]
     },
     "execution_count": 81,
     "metadata": {},
     "output_type": "execute_result"
    }
   ],
   "source": [
    "df.head(10)"
   ]
  },
  {
   "cell_type": "code",
   "execution_count": null,
   "metadata": {
    "collapsed": true
   },
   "outputs": [],
   "source": []
  }
 ],
 "metadata": {
  "anaconda-cloud": {},
  "kernelspec": {
   "display_name": "Python [conda root]",
   "language": "python",
   "name": "conda-root-py"
  },
  "language_info": {
   "codemirror_mode": {
    "name": "ipython",
    "version": 2
   },
   "file_extension": ".py",
   "mimetype": "text/x-python",
   "name": "python",
   "nbconvert_exporter": "python",
   "pygments_lexer": "ipython2",
   "version": "2.7.12"
  }
 },
 "nbformat": 4,
 "nbformat_minor": 2
}
